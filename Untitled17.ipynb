{
  "nbformat": 4,
  "nbformat_minor": 0,
  "metadata": {
    "colab": {
      "provenance": []
    },
    "kernelspec": {
      "name": "python3",
      "display_name": "Python 3"
    },
    "language_info": {
      "name": "python"
    }
  },
  "cells": [
    {
      "cell_type": "code",
      "execution_count": 2,
      "metadata": {
        "colab": {
          "base_uri": "https://localhost:8080/"
        },
        "id": "FelmYutplQhP",
        "outputId": "110d0938-5399-4f1a-8b71-e7babb19ebdb"
      },
      "outputs": [
        {
          "output_type": "stream",
          "name": "stdout",
          "text": [
            "Fibonacci ketma-ketligi:\n",
            "[0, 1, 1, 2, 3, 5, 8, 13, 21, 34, 55, 89, 144, 233, 377]\n",
            "\n",
            "Fayldagi natija:\n",
            "Fibonacci ketma-ketligi (15 ta element):\n",
            "0\n",
            "1\n",
            "1\n",
            "2\n",
            "3\n",
            "5\n",
            "8\n",
            "13\n",
            "21\n",
            "34\n",
            "55\n",
            "89\n",
            "144\n",
            "233\n",
            "377\n",
            "\n"
          ]
        }
      ],
      "source": [
        "def fibonacci(n):\n",
        "    fib_sequence = [0, 1]  # Fibonacci ketma-ketligining boshlanishi\n",
        "    while len(fib_sequence) < n:\n",
        "        fib_sequence.append(fib_sequence[-1] + fib_sequence[-2])\n",
        "    return fib_sequence\n",
        "n = 15\n",
        "fib_sequence = fibonacci(n)\n",
        "print(\"Fibonacci ketma-ketligi:\")\n",
        "print(fib_sequence)\n",
        "with open('/content/fibonacci.txt', 'w') as file:\n",
        "    file.write(\"Fibonacci ketma-ketligi ({} ta element):\\n\".format(n))\n",
        "    for number in fib_sequence:\n",
        "        file.write(str(number) + '\\n')\n",
        "with open('/content/fibonacci.txt', 'r') as file:\n",
        "    print(\"\\nFayldagi natija:\")\n",
        "    print(file.read())"
      ]
    }
  ]
}